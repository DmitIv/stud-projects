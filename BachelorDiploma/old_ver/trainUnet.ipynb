{
 "cells": [
  {
   "cell_type": "code",
   "execution_count": 1,
   "metadata": {},
   "outputs": [
    {
     "name": "stderr",
     "output_type": "stream",
     "text": [
      "Using TensorFlow backend.\n"
     ]
    }
   ],
   "source": [
    "import time\n",
    "\n",
    "from keras.callbacks import ReduceLROnPlateau\n",
    "from keras.callbacks import TensorBoard\n",
    "\n",
    "from model import *\n",
    "from data import *\n",
    "import ImageTB"
   ]
  },
  {
   "cell_type": "code",
   "execution_count": 2,
   "metadata": {},
   "outputs": [],
   "source": [
    "MODEL_NAME = 'Unet'\n",
    "# MODEL_NAME = 'RefineNet'\n",
    "# MODEL_NAME = 'Segnet'\n",
    "TRAIN_PATH = 'data/sky/iphone500'\n",
    "VAL_PATH = 'data/sky/iphone500'\n",
    "\n",
    "LOGS_PATH = './../../../log'\n",
    "if not os.path.exists(LOGS_PATH):\n",
    "    os.makedirs(LOGS_PATH)\n",
    "    \n",
    "WEIGHTS_PATH = './models'\n",
    "if not os.path.exists(WEIGHTS_PATH):\n",
    "    os.makedirs(WEIGHTS_PATH)\n",
    "    \n",
    "BATCH_SIZE = 4\n",
    "VAL_BATCH_SIZE = 5"
   ]
  },
  {
   "cell_type": "markdown",
   "metadata": {},
   "source": [
    "## Lr reduce"
   ]
  },
  {
   "cell_type": "code",
   "execution_count": 3,
   "metadata": {},
   "outputs": [],
   "source": [
    "lr_reducer = ReduceLROnPlateau(monitor='val_acc', factor=0.5, patience=3, verbose=1, min_lr=1e-6)"
   ]
  },
  {
   "cell_type": "markdown",
   "metadata": {},
   "source": [
    "## Checkpoint"
   ]
  },
  {
   "cell_type": "code",
   "execution_count": 4,
   "metadata": {},
   "outputs": [],
   "source": [
    "weights_name = MODEL_NAME + '.{epoch:02d}-{val_acc:.2f}.hdf5'\n",
    "weights_dir = os.path.join(WEIGHTS_PATH, weights_name)\n",
    "checkpoint = ModelCheckpoint(weights_dir, monitor='acc', verbose=1, save_best_only=True, mode='max')"
   ]
  },
  {
   "cell_type": "markdown",
   "metadata": {},
   "source": [
    "## Model"
   ]
  },
  {
   "cell_type": "code",
   "execution_count": 5,
   "metadata": {},
   "outputs": [
    {
     "name": "stderr",
     "output_type": "stream",
     "text": [
      "/home/dmitrii/.virtenvs/FaceIidentification/lib/python3.6/site-packages/keras_applications/resnet50.py:265: UserWarning: The output shape of `ResNet50(include_top=False)` has been changed since Keras 2.2.0.\n",
      "  warnings.warn('The output shape of `ResNet50(include_top=False)` '\n",
      "/home/dmitrii/sky_detect/Semantic-Segmentation-Suite/UNET/sky-segmentation/keras_unet/model.py:79: UserWarning: Update your `Model` call to the Keras 2 API: `Model(inputs=Tensor(\"in..., outputs=Tensor(\"co...)`\n",
      "  model = Model(input = inputs, output = conv10)\n"
     ]
    }
   ],
   "source": [
    "model = unet()\n",
    "# model = RefineNet()\n",
    "# model = segnet()\n",
    "# model.summary()"
   ]
  },
  {
   "cell_type": "markdown",
   "metadata": {},
   "source": [
    "## Generators"
   ]
  },
  {
   "cell_type": "code",
   "execution_count": 6,
   "metadata": {},
   "outputs": [],
   "source": [
    "data_gen_args = dict(\n",
    "    rotation_range=0.3,\n",
    "    width_shift_range=0.1,\n",
    "    height_shift_range=0.1,\n",
    "    shear_range=0.1,\n",
    "    zoom_range=0.1,\n",
    "    horizontal_flip=True,\n",
    "    fill_mode='nearest'\n",
    ")"
   ]
  },
  {
   "cell_type": "code",
   "execution_count": 7,
   "metadata": {},
   "outputs": [
    {
     "name": "stdout",
     "output_type": "stream",
     "text": [
      "Found 1263 images belonging to 1 classes.\n",
      "Found 1263 images belonging to 1 classes.\n",
      "Found 26 images belonging to 1 classes.\n",
      "Found 26 images belonging to 1 classes.\n"
     ]
    }
   ],
   "source": [
    "train_generator = BatchGenerator(\n",
    "    batch_size=BATCH_SIZE,\n",
    "    train_path=TRAIN_PATH,\n",
    "    image_folder='train',\n",
    "    mask_folder='train_labels',\n",
    "    aug_dict=data_gen_args,\n",
    "    save_to_dir = None)\n",
    "\n",
    "val_generator = BatchGenerator(\n",
    "    batch_size=VAL_BATCH_SIZE,\n",
    "    train_path=VAL_PATH,\n",
    "    image_folder='val',\n",
    "    mask_folder='val_labels',\n",
    "    aug_dict=data_gen_args,\n",
    "    save_to_dir = None)"
   ]
  },
  {
   "cell_type": "markdown",
   "metadata": {},
   "source": [
    "## TensorBoard"
   ]
  },
  {
   "cell_type": "code",
   "execution_count": null,
   "metadata": {},
   "outputs": [],
   "source": [
    "CURRENT_TIME = str(time.strftime(\"%Y%m%d-%H%M%S\"))    \n",
    "log_name = \"{}_{}\".format(MODEL_NAME, CURRENT_TIME)\n",
    "log_dir = os.path.join(LOGS_PATH, log_name)\n",
    "os.makedirs(log_dir)\n",
    "tbCallBack = ImageTB.ImagesTensorBoard(log_dir=log_dir, generator=val_generator)"
   ]
  },
  {
   "cell_type": "markdown",
   "metadata": {},
   "source": [
    "## Early stopping"
   ]
  },
  {
   "cell_type": "code",
   "execution_count": null,
   "metadata": {},
   "outputs": [],
   "source": [
    "erlStopping = ImageTB.EarlyStoppingByLossVal(verbose=1)"
   ]
  },
  {
   "cell_type": "code",
   "execution_count": null,
   "metadata": {},
   "outputs": [
    {
     "name": "stdout",
     "output_type": "stream",
     "text": [
      "Epoch 1/500\n",
      "314/315 [============================>.] - ETA: 0s - loss: 0.1729 - acc: 0.9418Epoch 1/500\n",
      "Epoch 1/500\n",
      "315/315 [==============================] - 159s 505ms/step - loss: 0.1728 - acc: 0.9419 - val_loss: 0.1741 - val_acc: 0.9601\n",
      "\n",
      "Epoch 00001: acc improved from -inf to 0.94195, saving model to ./models/Unet.01-0.96.hdf5\n",
      "Epoch 2/500\n",
      "315/315 [==============================] - 132s 420ms/step - loss: 0.1143 - acc: 0.9660 - val_loss: 0.1318 - val_acc: 0.9517\n",
      "\n",
      "Epoch 00002: acc improved from 0.94195 to 0.96596, saving model to ./models/Unet.02-0.95.hdf5\n",
      "Epoch 3/500\n",
      "315/315 [==============================] - 126s 399ms/step - loss: 0.0873 - acc: 0.9729 - val_loss: 0.0344 - val_acc: 0.9875\n",
      "\n",
      "Epoch 00003: acc improved from 0.96596 to 0.97287, saving model to ./models/Unet.03-0.99.hdf5\n",
      "Epoch 4/500\n",
      "315/315 [==============================] - 125s 397ms/step - loss: 0.0769 - acc: 0.9762 - val_loss: 0.0421 - val_acc: 0.9849\n",
      "\n",
      "Epoch 00004: acc improved from 0.97287 to 0.97623, saving model to ./models/Unet.04-0.98.hdf5\n",
      "Epoch 5/500\n",
      "315/315 [==============================] - 125s 396ms/step - loss: 0.0695 - acc: 0.9791 - val_loss: 0.1862 - val_acc: 0.9534\n",
      "\n",
      "Epoch 00005: acc improved from 0.97623 to 0.97905, saving model to ./models/Unet.05-0.95.hdf5\n",
      "Epoch 6/500\n",
      "315/315 [==============================] - 125s 396ms/step - loss: 0.0510 - acc: 0.9836 - val_loss: 0.3111 - val_acc: 0.9257\n",
      "\n",
      "Epoch 00006: ReduceLROnPlateau reducing learning rate to 4.999999873689376e-05.\n",
      "\n",
      "Epoch 00006: acc improved from 0.97905 to 0.98356, saving model to ./models/Unet.06-0.93.hdf5\n",
      "Epoch 7/500\n",
      "315/315 [==============================] - 125s 396ms/step - loss: 0.0493 - acc: 0.9851 - val_loss: 0.1474 - val_acc: 0.9616\n",
      "\n",
      "Epoch 00007: acc improved from 0.98356 to 0.98507, saving model to ./models/Unet.07-0.96.hdf5\n",
      "Epoch 8/500\n",
      "315/315 [==============================] - 124s 395ms/step - loss: 0.0357 - acc: 0.9883 - val_loss: 0.6514 - val_acc: 0.9229\n",
      "\n",
      "Epoch 00008: acc improved from 0.98507 to 0.98827, saving model to ./models/Unet.08-0.92.hdf5\n",
      "Epoch 9/500\n",
      "315/315 [==============================] - 125s 396ms/step - loss: 0.0291 - acc: 0.9903 - val_loss: 0.2285 - val_acc: 0.9558\n",
      "\n",
      "Epoch 00009: ReduceLROnPlateau reducing learning rate to 2.499999936844688e-05.\n",
      "\n",
      "Epoch 00009: acc improved from 0.98827 to 0.99026, saving model to ./models/Unet.09-0.96.hdf5\n",
      "Epoch 10/500\n",
      "315/315 [==============================] - 125s 397ms/step - loss: 0.0259 - acc: 0.9909 - val_loss: 0.2214 - val_acc: 0.9582\n",
      "\n",
      "Epoch 00010: acc improved from 0.99026 to 0.99089, saving model to ./models/Unet.10-0.96.hdf5\n",
      "Epoch 11/500\n",
      "315/315 [==============================] - 125s 397ms/step - loss: 0.0213 - acc: 0.9923 - val_loss: 0.3432 - val_acc: 0.9446\n",
      "\n",
      "Epoch 00011: acc improved from 0.99089 to 0.99225, saving model to ./models/Unet.11-0.94.hdf5\n",
      "Epoch 12/500\n",
      "315/315 [==============================] - 126s 400ms/step - loss: 0.0213 - acc: 0.9921 - val_loss: 0.1603 - val_acc: 0.9639\n",
      "\n",
      "Epoch 00012: ReduceLROnPlateau reducing learning rate to 1.249999968422344e-05.\n",
      "\n",
      "Epoch 00012: acc did not improve from 0.99225\n",
      "Epoch 13/500\n",
      "315/315 [==============================] - 127s 402ms/step - loss: 0.0189 - acc: 0.9928 - val_loss: 0.3896 - val_acc: 0.9480\n",
      "\n",
      "Epoch 00013: acc improved from 0.99225 to 0.99283, saving model to ./models/Unet.13-0.95.hdf5\n",
      "Epoch 14/500\n",
      "315/315 [==============================] - 126s 400ms/step - loss: 0.0180 - acc: 0.9933 - val_loss: 0.3048 - val_acc: 0.9492\n",
      "\n",
      "Epoch 00014: acc improved from 0.99283 to 0.99325, saving model to ./models/Unet.14-0.95.hdf5\n",
      "Epoch 15/500\n",
      "315/315 [==============================] - 130s 412ms/step - loss: 0.0179 - acc: 0.9934 - val_loss: 0.4507 - val_acc: 0.9440\n",
      "\n",
      "Epoch 00015: ReduceLROnPlateau reducing learning rate to 6.24999984211172e-06.\n",
      "\n",
      "Epoch 00015: acc improved from 0.99325 to 0.99341, saving model to ./models/Unet.15-0.94.hdf5\n",
      "Epoch 16/500\n",
      "314/315 [============================>.] - ETA: 0s - loss: 0.0160 - acc: 0.9940\n",
      "Epoch 00015: ReduceLROnPlateau reducing learning rate to 6.24999984211172e-06.\n",
      "315/315 [==============================] - 129s 409ms/step - loss: 0.0160 - acc: 0.9940 - val_loss: 0.4040 - val_acc: 0.9455\n",
      "\n",
      "Epoch 00016: acc improved from 0.99341 to 0.99399, saving model to ./models/Unet.16-0.95.hdf5\n",
      "Epoch 17/500\n",
      "315/315 [==============================] - 127s 402ms/step - loss: 0.0158 - acc: 0.9941 - val_loss: 0.4367 - val_acc: 0.9463\n",
      "\n",
      "Epoch 00017: acc improved from 0.99399 to 0.99411, saving model to ./models/Unet.17-0.95.hdf5\n",
      "Epoch 18/500\n",
      "315/315 [==============================] - 129s 409ms/step - loss: 0.0153 - acc: 0.9943 - val_loss: 0.4798 - val_acc: 0.9444\n",
      "\n",
      "Epoch 00018: ReduceLROnPlateau reducing learning rate to 3.12499992105586e-06.\n",
      "\n",
      "Epoch 00018: acc improved from 0.99411 to 0.99429, saving model to ./models/Unet.18-0.94.hdf5\n",
      "Epoch 19/500\n",
      "315/315 [==============================] - 126s 398ms/step - loss: 0.0149 - acc: 0.9944 - val_loss: 0.5956 - val_acc: 0.9382\n",
      "\n",
      "Epoch 00019: acc improved from 0.99429 to 0.99443, saving model to ./models/Unet.19-0.94.hdf5\n",
      "Epoch 20/500\n",
      " 74/315 [======>.......................] - ETA: 1:37 - loss: 0.0164 - acc: 0.9941"
     ]
    }
   ],
   "source": [
    "model.fit_generator(\n",
    "    train_generator,\n",
    "    steps_per_epoch=len(train_generator),\n",
    "    epochs=500,\n",
    "    callbacks=[\n",
    "            lr_reducer,\n",
    "            tbCallBack,\n",
    "            checkpoint,\n",
    "#             erlStopping\n",
    "        ],\n",
    "    validation_data=val_generator,\n",
    "    validation_steps=len(val_generator),\n",
    "    \n",
    "    max_queue_size=8,\n",
    "    workers=4,\n",
    "    use_multiprocessing=True)"
   ]
  }
 ],
 "metadata": {
  "kernelspec": {
   "display_name": "Python 3",
   "language": "python",
   "name": "python3"
  },
  "language_info": {
   "codemirror_mode": {
    "name": "ipython",
    "version": 3
   },
   "file_extension": ".py",
   "mimetype": "text/x-python",
   "name": "python",
   "nbconvert_exporter": "python",
   "pygments_lexer": "ipython3",
   "version": "3.7.7"
  }
 },
 "nbformat": 4,
 "nbformat_minor": 4
}
