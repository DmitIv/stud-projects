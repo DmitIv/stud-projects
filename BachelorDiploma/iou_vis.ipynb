{
 "cells": [
  {
   "cell_type": "code",
   "execution_count": 1,
   "metadata": {},
   "outputs": [],
   "source": [
    "import data\n",
    "from fastai.vision import open_image, open_mask, learner\n",
    "import torch\n",
    "\n",
    "import matplotlib.pyplot as plt"
   ]
  },
  {
   "cell_type": "code",
   "execution_count": 2,
   "metadata": {},
   "outputs": [],
   "source": [
    "imgs, lbls = [], []\n",
    "for img in data.data_dirs.get_subdir(\"test iPhoneXR images\").iterdir():\n",
    "    imgs += [open_image(img, after_open=lambda x: x.resize([256, 256]))]\n",
    "    lbls += [open_mask(data.get_label_with_context(img), div=True, after_open=lambda x:\n",
    "                      x.resize([256, 256]))]\n",
    "    \n",
    "model = learner.load_learner(\"/home/dmitri/Documents/model_weights/linknet34/\", \"linknet34_osp_full_e25_exp_without_logit_1e-03\")\n",
    "_, torch_mask, _ = model.predict(imgs[1])"
   ]
  },
  {
   "cell_type": "code",
   "execution_count": 3,
   "metadata": {},
   "outputs": [
    {
     "data": {
      "text/plain": [
       "torch.Size([256, 256, 3])"
      ]
     },
     "execution_count": 3,
     "metadata": {},
     "output_type": "execute_result"
    }
   ],
   "source": [
    "white_canvas = torch.ones_like(torch_mask) * 255\n",
    "intersection = torch.masked_fill(white_canvas, (torch_mask == 0) & (lbls[1].data == 0), 0)\n",
    "intersection = intersection.squeeze(0)\n",
    "intersection = intersection.unsqueeze(2)\n",
    "white_canvas = torch.ones_like(intersection) * 255\n",
    "intersection = torch.cat([intersection, intersection, white_canvas], dim=2)\n",
    "\n",
    "intersection.size()"
   ]
  },
  {
   "cell_type": "code",
   "execution_count": 4,
   "metadata": {},
   "outputs": [
    {
     "data": {
      "text/plain": [
       "torch.Size([256, 256, 3])"
      ]
     },
     "execution_count": 4,
     "metadata": {},
     "output_type": "execute_result"
    }
   ],
   "source": [
    "white_canvas = torch.ones_like(torch_mask) * 255\n",
    "union = torch.masked_fill(white_canvas, (torch_mask == 0) | (lbls[1].data == 0), 0)\n",
    "union = union.squeeze(0)\n",
    "union = union.unsqueeze(2)\n",
    "white_canvas = torch.ones_like(union) * 255\n",
    "union = torch.cat([white_canvas, union, union], dim=2)\n",
    "\n",
    "union.size()"
   ]
  },
  {
   "cell_type": "code",
   "execution_count": 5,
   "metadata": {},
   "outputs": [
    {
     "data": {
      "image/png": "[encoded data removed]",
      "text/plain": [
       "<Figure size 432x288 with 1 Axes>"
      ]
     },
     "metadata": {
      "needs_background": "light"
     },
     "output_type": "display_data"
    }
   ],
   "source": [
    "plt.figure()\n",
    "plt.imshow(torch_mask.squeeze(dim = 0).bitwise_not().numpy(), cmap=\"Greys\")\n",
    "plt.savefig(\"/home/dmitri/dev/BachelorDiploma/thesis/mmcs_sfedu_thesis/img/iou_vis/predicted.png\")"
   ]
  },
  {
   "cell_type": "code",
   "execution_count": 6,
   "metadata": {},
   "outputs": [
    {
     "data": {
      "image/png": "[encoded data removed]",
      "text/plain": [
       "<Figure size 432x288 with 1 Axes>"
      ]
     },
     "metadata": {
      "needs_background": "light"
     },
     "output_type": "display_data"
    }
   ],
   "source": [
    "plt.figure()\n",
    "plt.imshow(intersection.squeeze(dim = 0).numpy())\n",
    "plt.savefig(\"/home/dmitri/dev/BachelorDiploma/thesis/mmcs_sfedu_thesis/img/iou_vis/intersection.png\")"
   ]
  },
  {
   "cell_type": "code",
   "execution_count": 7,
   "metadata": {},
   "outputs": [
    {
     "data": {
      "image/png": "[encoded data removed]",
      "text/plain": [
       "<Figure size 432x288 with 1 Axes>"
      ]
     },
     "metadata": {
      "needs_background": "light"
     },
     "output_type": "display_data"
    }
   ],
   "source": [
    "plt.figure()\n",
    "plt.imshow(union.squeeze(dim = 0).numpy())\n",
    "plt.savefig(\"/home/dmitri/dev/BachelorDiploma/thesis/mmcs_sfedu_thesis/img/iou_vis/union.png\")"
   ]
  },
  {
   "cell_type": "code",
   "execution_count": 8,
   "metadata": {},
   "outputs": [
    {
     "data": {
      "image/png": "[encoded data removed]",
      "text/plain": [
       "<Figure size 432x288 with 1 Axes>"
      ]
     },
     "metadata": {
      "needs_background": "light"
     },
     "output_type": "display_data"
    }
   ],
   "source": [
    "plt.figure()\n",
    "plt.imshow(lbls[1].data.squeeze(dim = 0).bitwise_not().numpy(), cmap=\"Greys\")\n",
    "plt.savefig(\"/home/dmitri/dev/BachelorDiploma/thesis/mmcs_sfedu_thesis/img/iou_vis/mask.png\")"
   ]
  },
  {
   "cell_type": "code",
   "execution_count": 9,
   "metadata": {},
   "outputs": [],
   "source": [
    "intersection = ((torch_mask == 0) & (lbls[1].data == 0)).unique(return_counts=True)\n",
    "union = ((torch_mask == 0) | (lbls[1].data == 0)).unique(return_counts=True)"
   ]
  },
  {
   "cell_type": "code",
   "execution_count": 11,
   "metadata": {},
   "outputs": [
    {
     "data": {
      "text/plain": [
       "tensor(79.2986, dtype=torch.float64)"
      ]
     },
     "execution_count": 11,
     "metadata": {},
     "output_type": "execute_result"
    }
   ],
   "source": [
    "(intersection[1][1].to(float) / union[1][1].to(float)) * 100.0"
   ]
  },
  {
   "cell_type": "code",
   "execution_count": null,
   "metadata": {},
   "outputs": [],
   "source": []
  }
 ],
 "metadata": {
  "kernelspec": {
   "display_name": "Python 3",
   "language": "python",
   "name": "python3"
  },
  "language_info": {
   "codemirror_mode": {
    "name": "ipython",
    "version": 3
   },
   "file_extension": ".py",
   "mimetype": "text/x-python",
   "name": "python",
   "nbconvert_exporter": "python",
   "pygments_lexer": "ipython3",
   "version": "3.7.7"
  }
 },
 "nbformat": 4,
 "nbformat_minor": 4
}
