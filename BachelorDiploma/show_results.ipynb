{
 "cells": [
  {
   "cell_type": "code",
   "execution_count": 1,
   "metadata": {},
   "outputs": [],
   "source": [
    "%matplotlib inline\n",
    "%reload_ext autoreload\n",
    "%autoreload 2\n",
    "\n",
    "import os\n",
    "\n",
    "from data_utils import SegItemListCustom, ImageListVertical\n",
    "from data import data_dirs as data_env\n",
    "\n",
    "from result_visualization import show_results, save_results\n",
    "\n",
    "from fastai.vision import (\n",
    "    Learner, load_learner,\n",
    "    open_image, open_mask,\n",
    "    ImageList,\n",
    "    get_transforms, imagenet_stats,\n",
    "    ResizeMethod, DatasetType,\n",
    "    plt,   # matplotlib.pyplot\n",
    "    nn,    # torch.nn\n",
    "    optim  # torch.optim\n",
    ")\n",
    "from fastai.callbacks.mem import PeakMemMetric\n",
    "\n",
    "from model import (\n",
    "    decoder_high_output, decoder_middle_output, decoder_first_output,\n",
    "    encoder_low_output, encoder_middle_output, encoder_first_output,\n",
    "    LinkNet34, pre_encoder_output, classifier_middle_output\n",
    ")\n",
    "\n",
    "from torchvision.utils import save_image\n",
    "\n",
    "import cv2\n",
    "\n",
    "import numpy as np\n",
    "\n",
    "import imageio\n",
    "from pathlib import Path\n",
    "\n",
    "import torch\n",
    "torch.set_printoptions(precision=7, sci_mode=False)\n",
    "\n",
    "import warnings\n",
    "warnings.filterwarnings(\"ignore\")\n",
    "\n",
    "from PIL import ImageFile\n",
    "ImageFile.LOAD_TRUNCATED_IMAGES = True"
   ]
  },
  {
   "cell_type": "code",
   "execution_count": 7,
   "metadata": {},
   "outputs": [],
   "source": [
    "sizes= 256\n",
    "\n",
    "test_data = (\n",
    "    ImageList\n",
    "    .from_folder(data_env.get_subdir(\"test iPhoneXR images\"))\n",
    "    .split_by_folder()\n",
    "    .label_empty()\n",
    "    .add_test_folder(test_folder=\"./\")\n",
    "    .transform(get_transforms(do_flip=False), size=sizes, resize_method=ResizeMethod.SQUISH)\n",
    "    .databunch(bs=1)\n",
    "    .normalize(imagenet_stats)\n",
    ")\n",
    "\n",
    "classes = 2"
   ]
  },
  {
   "cell_type": "code",
   "execution_count": 3,
   "metadata": {},
   "outputs": [],
   "source": [
    "learner = load_learner(\"/home/dmitri/Documents/model_weights/linknet34/\", \"linknet34_osp_full_e25_exp_without_logit_1e-01\")\n",
    "# learner = learner.load(\"/home/dmitri/Documents/model_weights/linknet34/linknet34_student_3src_ops_full_e12_wghts_without_logit_dropout_20\", )\n",
    "\n",
    "# model = LinkNet34(num_classes=2)\n",
    "\n",
    "# learner = Learner(test_data, model)\n",
    "# learner.opt_fn = optim.Adam\n",
    "# learner.loss_fn = nn.BCELoss()"
   ]
  },
  {
   "cell_type": "code",
   "execution_count": 4,
   "metadata": {},
   "outputs": [],
   "source": [
    "# learner.model.save_decoder = True\n",
    "# learner.model.save_encoder = True"
   ]
  },
  {
   "cell_type": "code",
   "execution_count": 5,
   "metadata": {},
   "outputs": [],
   "source": [
    "# show_results(test_data, learner)"
   ]
  },
  {
   "cell_type": "code",
   "execution_count": 8,
   "metadata": {},
   "outputs": [
    {
     "name": "stderr",
     "output_type": "stream",
     "text": [
      "Lossy conversion from float32 to uint8. Range [0, 1]. Convert image to uint8 prior to saving to suppress this warning.\n",
      "Lossy conversion from float32 to uint8. Range [0.5, 1.399999976158142]. Convert image to uint8 prior to saving to suppress this warning.\n",
      "Lossy conversion from float32 to uint8. Range [0, 1]. Convert image to uint8 prior to saving to suppress this warning.\n",
      "Lossy conversion from float32 to uint8. Range [0.5, 1.3999824523925781]. Convert image to uint8 prior to saving to suppress this warning.\n",
      "Lossy conversion from float32 to uint8. Range [0, 1]. Convert image to uint8 prior to saving to suppress this warning.\n",
      "Lossy conversion from float32 to uint8. Range [0.5001506805419922, 1.399999976158142]. Convert image to uint8 prior to saving to suppress this warning.\n",
      "Lossy conversion from float32 to uint8. Range [0, 1]. Convert image to uint8 prior to saving to suppress this warning.\n",
      "Lossy conversion from float32 to uint8. Range [0.5003151893615723, 1.399999976158142]. Convert image to uint8 prior to saving to suppress this warning.\n",
      "Lossy conversion from float32 to uint8. Range [0, 1]. Convert image to uint8 prior to saving to suppress this warning.\n",
      "Lossy conversion from float32 to uint8. Range [0.5002419352531433, 1.399999976158142]. Convert image to uint8 prior to saving to suppress this warning.\n",
      "Lossy conversion from float32 to uint8. Range [0, 1]. Convert image to uint8 prior to saving to suppress this warning.\n",
      "Lossy conversion from float32 to uint8. Range [0.5, 1.3996864557266235]. Convert image to uint8 prior to saving to suppress this warning.\n",
      "Lossy conversion from float32 to uint8. Range [0, 1]. Convert image to uint8 prior to saving to suppress this warning.\n",
      "Lossy conversion from float32 to uint8. Range [0.5004831552505493, 1.399999976158142]. Convert image to uint8 prior to saving to suppress this warning.\n"
     ]
    },
    {
     "data": {
      "image/png": "[encoded data removed]",
      "text/plain": [
       "<Figure size 216x504 with 21 Axes>"
      ]
     },
     "metadata": {
      "needs_background": "light"
     },
     "output_type": "display_data"
    }
   ],
   "source": [
    "save_results(test_data, learner)"
   ]
  },
  {
   "cell_type": "code",
   "execution_count": null,
   "metadata": {},
   "outputs": [],
   "source": [
    "image_number = 3\n",
    "rescale = True\n",
    "\n",
    "for i, f_map in enumerate(decoder_high_output(image_number, rescale=rescale)):\n",
    "    save_image(f_map.to(float), \n",
    "               \"/home/dmitri/dev/BachelorDiploma/thesis/mmcs_sfedu_thesis/img/pre_classified_output/decoder_high/{}_mask.png\".format(i))\n",
    "    \n",
    "for i, f_map in enumerate(decoder_middle_output(image_number, rescale=rescale)):\n",
    "    save_image(f_map.to(float), \n",
    "               \"/home/dmitri/dev/BachelorDiploma/thesis/mmcs_sfedu_thesis/img/pre_classified_output/decoder_middle/{}_mask.png\".format(i))\n",
    "    \n",
    "for i, f_map in enumerate(decoder_first_output(image_number, rescale=rescale)):\n",
    "    save_image(f_map.to(float), \n",
    "               \"/home/dmitri/dev/BachelorDiploma/thesis/mmcs_sfedu_thesis/img/pre_classified_output/decoder_first/{}_mask.png\".format(i))\n",
    "    \n",
    "for i, f_map in enumerate(encoder_low_output(image_number, rescale=rescale)):\n",
    "    save_image(f_map.to(float), \n",
    "               \"/home/dmitri/dev/BachelorDiploma/thesis/mmcs_sfedu_thesis/img/pre_classified_output/encoder_low/{}_mask.png\".format(i))\n",
    "    \n",
    "for i, f_map in enumerate(encoder_middle_output(image_number, rescale=rescale)):\n",
    "    save_image(f_map.to(float), \n",
    "               \"/home/dmitri/dev/BachelorDiploma/thesis/mmcs_sfedu_thesis/img/pre_classified_output/encoder_middle/{}_mask.png\".format(i))\n",
    "    \n",
    "for i, f_map in enumerate(encoder_first_output(image_number, rescale=rescale)):\n",
    "    save_image(f_map.to(float), \n",
    "               \"/home/dmitri/dev/BachelorDiploma/thesis/mmcs_sfedu_thesis/img/pre_classified_output/encoder_first/{}_mask.png\".format(i))    \n",
    "    \n",
    "for i, f_map in enumerate(pre_encoder_output(image_number, rescale=rescale)):\n",
    "    save_image(f_map.to(float),\n",
    "              \"/home/dmitri/dev/BachelorDiploma/thesis/mmcs_sfedu_thesis/img/pre_classified_output/pre_encoder/{}_mask.png\".format(i))\n",
    "    \n",
    "for i, f_map in enumerate(classifier_middle_output(image_number, rescale=rescale)):\n",
    "    save_image(f_map.to(float),\n",
    "              \"/home/dmitri/dev/BachelorDiploma/thesis/mmcs_sfedu_thesis/img/pre_classified_output/classifier_middle/{}_mask.png\".format(i))"
   ]
  },
  {
   "cell_type": "code",
   "execution_count": null,
   "metadata": {},
   "outputs": [],
   "source": [
    "# Just for fun\n",
    "image_path = Path(\"/home/dmitri/dev/BachelorDiploma/thesis/mmcs_sfedu_thesis/img/pre_classified_output/classifier_middle\")\n",
    "images = list(image_path.glob(\"*.png\"))\n",
    "image_list = [imageio.imread(image_file) for image_file in images]\n",
    "\n",
    "imageio.mimwrite(\"/home/dmitri/Pictures/mask.gif\", image_list)"
   ]
  },
  {
   "cell_type": "code",
   "execution_count": null,
   "metadata": {},
   "outputs": [],
   "source": [
    "_, raw_mask, se = learner.predict(test_data.test_dl.get(3))\n",
    "raw_mask *= 255\n",
    "save_image(raw_mask.to(float), \"/home/dmitri/dev/BachelorDiploma/thesis/mmcs_sfedu_thesis/img/image_mask.png\")"
   ]
  },
  {
   "cell_type": "code",
   "execution_count": null,
   "metadata": {},
   "outputs": [],
   "source": [
    "# raw_mask = se.max(dim=0)[1].unsqueeze(0)"
   ]
  },
  {
   "cell_type": "code",
   "execution_count": null,
   "metadata": {},
   "outputs": [],
   "source": [
    "AREA_THRESHOLD = 600\n",
    "\n",
    "lable_np_array = raw_mask.numpy()\n",
    "    \n",
    "blur = cv2.GaussianBlur(lable_np_array.astype(np.uint8),(5,5),0).squeeze(0)\n",
    "ret,thresh = cv2.threshold(blur, 0, 255, cv2.THRESH_BINARY + cv2.THRESH_OTSU)\n",
    "\n",
    "# Contour detection\n",
    "_, contours, hierarchy = cv2.findContours( thresh.copy(), cv2.RETR_TREE, cv2.CHAIN_APPROX_SIMPLE)\n",
    "\n",
    "# Filter contour by area\n",
    "contour_list = []\n",
    "area_threshold = AREA_THRESHOLD\n",
    "\n",
    "for contour in contours:\n",
    "    area = cv2.contourArea(contour)\n",
    "    if area > area_threshold :\n",
    "        contour_list.append(contour)\n",
    "\n",
    "# Making binary mask by contour        \n",
    "countMask = np.zeros(thresh.shape, dtype='uint8')\n",
    "cv2.drawContours(countMask, contour_list, -1, (255, 255, 255), cv2.FILLED)\n",
    "\n",
    "# Restore accuracy of board between sky and other objects\n",
    "mask_rev = np.add(cv2.bitwise_not(thresh), cv2.bitwise_not(countMask))\n",
    "_,mask_rev = cv2.threshold(mask_rev, 0, 255, cv2.THRESH_BINARY)\n",
    "mask = cv2.bitwise_not(mask_rev) \n",
    "\n",
    "save_image(torch.from_numpy(mask).to('cpu', torch.float), \"/home/dmitri/dev/BachelorDiploma/thesis/mmcs_sfedu_thesis/img/image_mask_after_correction.png\")"
   ]
  },
  {
   "cell_type": "code",
   "execution_count": null,
   "metadata": {},
   "outputs": [],
   "source": []
  }
 ],
 "metadata": {
  "kernelspec": {
   "display_name": "Python 3",
   "language": "python",
   "name": "python3"
  },
  "language_info": {
   "codemirror_mode": {
    "name": "ipython",
    "version": 3
   },
   "file_extension": ".py",
   "mimetype": "text/x-python",
   "name": "python",
   "nbconvert_exporter": "python",
   "pygments_lexer": "ipython3",
   "version": "3.7.7"
  }
 },
 "nbformat": 4,
 "nbformat_minor": 4
}
