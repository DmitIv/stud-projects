{
 "cells": [
  {
   "cell_type": "code",
   "execution_count": 1,
   "metadata": {
    "collapsed": true,
    "jupyter": {
     "outputs_hidden": true
    }
   },
   "outputs": [],
   "source": [
    "import cv2\n",
    "import torch\n",
    "import tensorflow as tf\n",
    "import numpy as np\n",
    "import os\n",
    "\n",
    "\n",
    "import matplotlib.pyplot as plt\n",
    "import torch\n",
    "import torchvision\n",
    "\n",
    "from skimage import io, transform\n",
    "import random"
   ]
  },
  {
   "cell_type": "code",
   "execution_count": 2,
   "metadata": {},
   "outputs": [
    {
     "data": {
      "text/plain": [
       "<matplotlib.image.AxesImage at 0x7f032ca6bb00>"
      ]
     },
     "execution_count": 2,
     "metadata": {},
     "output_type": "execute_result"
    },
    {
     "data": {
      "image/png": "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\n",
      "text/plain": [
       "<Figure size 432x288 with 1 Axes>"
      ]
     },
     "metadata": {
      "needs_background": "light"
     },
     "output_type": "display_data"
    }
   ],
   "source": [
    "plt.imshow(cv2.circle(np.ones((256, 256, 3)), (128, 128), 10, (0, 0, 0), -1))"
   ]
  },
  {
   "cell_type": "code",
<<<<<<< HEAD
   "execution_count": 2,
   "metadata": {},
   "outputs": [
    {
     "data": {
      "text/plain": [
       "(4,)"
      ]
     },
     "execution_count": 2,
     "metadata": {},
     "output_type": "execute_result"
    }
   ],
   "source": [
    "expnp.array([1, 2, 3, 4]).shape"
   ]
  },
  {
   "cell_type": "code",
   "execution_count": 6,
   "metadata": {},
   "outputs": [
    {
     "data": {
      "text/plain": [
       "1.0"
      ]
     },
     "execution_count": 6,
     "metadata": {},
     "output_type": "execute_result"
    }
   ],
   "source": [
    "np.ones((4, 1))[3, 0]"
=======
   "execution_count": 3,
   "metadata": {},
   "outputs": [
    {
     "ename": "TypeError",
     "evalue": "list indices must be integers or slices, not tuple",
     "output_type": "error",
     "traceback": [
      "\u001b[0;31m---------------------------------------------------------------------------\u001b[0m",
      "\u001b[0;31mTypeError\u001b[0m                                 Traceback (most recent call last)",
      "\u001b[0;32m<ipython-input-3-e0e640268ea5>\u001b[0m in \u001b[0;36m<module>\u001b[0;34m\u001b[0m\n\u001b[1;32m      1\u001b[0m \u001b[0ml\u001b[0m \u001b[0;34m=\u001b[0m \u001b[0;34m[\u001b[0m\u001b[0;34m[\u001b[0m\u001b[0;36m0\u001b[0m\u001b[0;34m,\u001b[0m \u001b[0;36m1\u001b[0m\u001b[0;34m]\u001b[0m\u001b[0;34m,\u001b[0m \u001b[0;34m[\u001b[0m\u001b[0;36m0\u001b[0m\u001b[0;34m,\u001b[0m \u001b[0;36m2\u001b[0m\u001b[0;34m]\u001b[0m\u001b[0;34m,\u001b[0m \u001b[0;34m[\u001b[0m\u001b[0;36m1\u001b[0m\u001b[0;34m,\u001b[0m \u001b[0;36m1\u001b[0m\u001b[0;34m]\u001b[0m\u001b[0;34m,\u001b[0m \u001b[0;34m[\u001b[0m\u001b[0;36m1\u001b[0m\u001b[0;34m,\u001b[0m \u001b[0;36m2\u001b[0m\u001b[0;34m]\u001b[0m\u001b[0;34m]\u001b[0m\u001b[0;34m\u001b[0m\u001b[0;34m\u001b[0m\u001b[0m\n\u001b[0;32m----> 2\u001b[0;31m \u001b[0ml\u001b[0m\u001b[0;34m[\u001b[0m\u001b[0;34m:\u001b[0m\u001b[0;34m,\u001b[0m \u001b[0;36m0\u001b[0m\u001b[0;34m]\u001b[0m\u001b[0;34m\u001b[0m\u001b[0;34m\u001b[0m\u001b[0m\n\u001b[0m",
      "\u001b[0;31mTypeError\u001b[0m: list indices must be integers or slices, not tuple"
     ]
    }
   ],
   "source": [
    "l = [[0, 1], [0, 2], [1, 1], [1, 2]]\n"
>>>>>>> 19f4f680a4a9bef976f3324ac8c1641759f37b23
   ]
  },
  {
   "cell_type": "code",
   "execution_count": null,
   "metadata": {},
   "outputs": [],
   "source": []
  }
 ],
 "metadata": {
  "kernelspec": {
   "display_name": "Python 3",
   "language": "python",
   "name": "python3"
  },
  "language_info": {
   "codemirror_mode": {
    "name": "ipython",
    "version": 3
   },
   "file_extension": ".py",
   "mimetype": "text/x-python",
   "name": "python",
   "nbconvert_exporter": "python",
   "pygments_lexer": "ipython3",
   "version": "3.6.7"
  }
 },
 "nbformat": 4,
 "nbformat_minor": 4
}
